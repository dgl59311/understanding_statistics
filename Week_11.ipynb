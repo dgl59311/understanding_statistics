{
 "cells": [
  {
   "cell_type": "markdown",
   "id": "4e24698d",
   "metadata": {},
   "source": [
    "## Week 11 \n",
    "### Understanding statistics"
   ]
  },
  {
   "cell_type": "code",
   "execution_count": 4,
   "id": "281551af",
   "metadata": {},
   "outputs": [],
   "source": [
    "import numpy as np\n",
    "from scipy.stats import norm\n",
    "import matplotlib.pyplot as plt"
   ]
  },
  {
   "cell_type": "code",
   "execution_count": 2,
   "id": "ca18f96f",
   "metadata": {},
   "outputs": [
    {
     "data": {
      "text/plain": [
       "(array([2.000e+00, 1.700e+01, 1.290e+02, 7.180e+02, 2.033e+03, 3.140e+03,\n",
       "        2.568e+03, 1.108e+03, 2.570e+02, 2.800e+01]),\n",
       " array([-4.65177975, -3.8347138 , -3.01764785, -2.2005819 , -1.38351595,\n",
       "        -0.56645   ,  0.25061595,  1.0676819 ,  1.88474785,  2.7018138 ,\n",
       "         3.51887975]),\n",
       " <BarContainer object of 10 artists>)"
      ]
     },
     "execution_count": 2,
     "metadata": {},
     "output_type": "execute_result"
    },
    {
     "data": {
      "image/png": "[encoded data removed]",
      "text/plain": [
       "<Figure size 432x288 with 1 Axes>"
      ]
     },
     "metadata": {
      "needs_background": "light"
     },
     "output_type": "display_data"
    }
   ],
   "source": [
    "# Create distribution\n",
    "normal_rnd_sample = norm.rvs(loc = 0, scale = 1, size = 10000)\n",
    "plt.hist(normal_rnd_sample)"
   ]
  },
  {
   "cell_type": "code",
   "execution_count": 34,
   "id": "6d3ae5ea",
   "metadata": {},
   "outputs": [
    {
     "name": "stdout",
     "output_type": "stream",
     "text": [
      "probability is:  0.05399096651318806\n"
     ]
    }
   ],
   "source": [
    "# Exercise 1\n",
    "p = norm.pdf(2, loc = 0, scale = 1)\n",
    "print('probability is: ', p)"
   ]
  },
  {
   "cell_type": "code",
   "execution_count": 33,
   "id": "05bd4d42",
   "metadata": {},
   "outputs": [
    {
     "name": "stdout",
     "output_type": "stream",
     "text": [
      "probability is:  0.021539279301848634\n"
     ]
    }
   ],
   "source": [
    "# Exercise 2\n",
    "p = norm.pdf(2, loc = 0, scale = 1) * norm.pdf(0, loc = 0, scale = 1)\n",
    "print('probability is: ', p)"
   ]
  },
  {
   "cell_type": "code",
   "execution_count": 32,
   "id": "6f0b5425",
   "metadata": {},
   "outputs": [
    {
     "name": "stdout",
     "output_type": "stream",
     "text": [
      "probability is:  0.3520653267642995\n"
     ]
    }
   ],
   "source": [
    "# Exercise 3\n",
    "p = norm.pdf(2, loc = 1.5, scale = 1) \n",
    "print('probability is: ', p)"
   ]
  },
  {
   "cell_type": "code",
   "execution_count": 30,
   "id": "3065a23f",
   "metadata": {},
   "outputs": [
    {
     "name": "stdout",
     "output_type": "stream",
     "text": [
      "odds are:  6.5208191203301125\n"
     ]
    }
   ],
   "source": [
    "# Exercise 4\n",
    "odds = (norm.pdf(2, loc = 1.5, scale = 1) * 0.5) / (norm.pdf(2, loc = 0, scale = 1) * 0.5) \n",
    "print('odds are: ', odds)"
   ]
  },
  {
   "cell_type": "code",
   "execution_count": 29,
   "id": "5840ccb4",
   "metadata": {},
   "outputs": [
    {
     "name": "stdout",
     "output_type": "stream",
     "text": [
      "odds are:  3.3014520594770054\n"
     ]
    }
   ],
   "source": [
    "# Exercise 5\n",
    "odds = (((norm.pdf(2, loc = 1.5, scale = 1) * 0.5) + (norm.pdf(2, loc = -1, scale = 1) * 0.5)) * 0.5 ) / (norm.pdf(2, loc = 0, scale = 1) * 0.5)\n",
    "print('odds are: ', odds)"
   ]
  },
  {
   "cell_type": "code",
   "execution_count": 27,
   "id": "fcf2ccb6",
   "metadata": {},
   "outputs": [
    {
     "name": "stdout",
     "output_type": "stream",
     "text": [
      "odds are:  0.32465246735834974\n",
      "area under the heads curve is:  0.02275013194817921\n",
      "Even if value is < 0.05 does not mean that data are more likely to have arisen from the tails distribution\n"
     ]
    }
   ],
   "source": [
    "# Exercise 6\n",
    "odds = (norm.pdf(2, loc = 4.5, scale = 1) * 0.5) / (norm.pdf(2, loc = 0, scale = 1) * 0.5) \n",
    "print('odds are: ', odds)\n",
    "area = norm.cdf(2, loc=0, scale=1)\n",
    "print('area under the heads curve is: ', 1-area)\n",
    "print('Even if value is < 0.05 does not mean that data are more likely to have arisen from the tails distribution')"
   ]
  },
  {
   "cell_type": "code",
   "execution_count": null,
   "id": "1b23734e",
   "metadata": {},
   "outputs": [],
   "source": [
    "# Exercise 7\n",
    "p_positive_et_pregnant = 99/100\n",
    "p_positive_et_non_pregnant = 5/100\n",
    "p_pregnant = 1/200\n",
    "p_non_pregnant = 199/200\n",
    "\n",
    "p = p_positive_et_pregnant * p_pregnant / p_positive_et_pregnant * p_pregnant + p_positive_et_non"
   ]
  },
  {
   "cell_type": "code",
   "execution_count": 38,
   "id": "4a6f1a2e",
   "metadata": {},
   "outputs": [
    {
     "name": "stdout",
     "output_type": "stream",
     "text": [
      "probability is:  0.09049360146252285\n"
     ]
    }
   ],
   "source": [
    "# Exercise 7\n",
    "p_positive_et_pregnant = 99/100\n",
    "p_positive_et_non_pregnant = 5/100\n",
    "p_pregnant = 1/200\n",
    "p_non_pregnant = 199/200\n",
    "\n",
    "p = (p_positive_et_pregnant * p_pregnant) / (p_positive_et_pregnant * p_pregnant + p_positive_et_non_pregnant * p_non_pregnant)\n",
    "print('probability is: ', p)"
   ]
  }
 ],
 "metadata": {
  "kernelspec": {
   "display_name": "Python [conda env:multi_eeg]",
   "language": "python",
   "name": "conda-env-multi_eeg-py"
  },
  "language_info": {
   "codemirror_mode": {
    "name": "ipython",
    "version": 3
   },
   "file_extension": ".py",
   "mimetype": "text/x-python",
   "name": "python",
   "nbconvert_exporter": "python",
   "pygments_lexer": "ipython3",
   "version": "3.9.7"
  }
 },
 "nbformat": 4,
 "nbformat_minor": 5
}
